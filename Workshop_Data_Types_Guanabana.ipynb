{
  "nbformat": 4,
  "nbformat_minor": 0,
  "metadata": {
    "colab": {
      "name": "Workshop_Data_Types.ipynb",
      "provenance": [],
      "collapsed_sections": [],
      "include_colab_link": true
    },
    "kernelspec": {
      "name": "python3",
      "display_name": "Python 3"
    }
  },
  "cells": [
    {
      "cell_type": "markdown",
      "metadata": {
        "id": "view-in-github",
        "colab_type": "text"
      },
      "source": [
        "<a href=\"https://colab.research.google.com/github/Aessop/Data-Science/blob/main/Workshop_Data_Types_Guanabana.ipynb\" target=\"_parent\"><img src=\"https://colab.research.google.com/assets/colab-badge.svg\" alt=\"Open In Colab\"/></a>"
      ]
    },
    {
      "cell_type": "markdown",
      "metadata": {
        "id": "ud7hwCWB9YO1"
      },
      "source": [
        "#**NOTE:**\r\n",
        "Please insert a text cell at the top of the Notebook with your **Full Name** in Bold and your email that you use for *both Journey and Github*\r\n",
        "\r\n",
        "Also, add to the title of the notebook, an underscore as well as your favourite fruit beside it. \r\n",
        "\r\n",
        "Ex. 'Workshop_Data_Types_Grapes'"
      ]
    },
    {
      "cell_type": "markdown",
      "metadata": {
        "id": "zIF2E3lX_U8J"
      },
      "source": [
        "Arnaud Brice Bolap\r\n",
        "abolap@hotmail.ca\r\n"
      ]
    },
    {
      "cell_type": "markdown",
      "metadata": {
        "id": "UXL9hpom_zZ_"
      },
      "source": [
        "#Warm Up\r\n",
        "\r\n",
        "In the cell below, import numpy and name it 'np' and create a list with the data types that were mentioned during a lecture as strings and store the result as \"types\"\r\n",
        "Ex.\r\n",
        "\r\n",
        "\r\n",
        "```\r\n",
        "import ... as ...\r\n",
        "types = [...]\r\n",
        "```\r\n",
        "\r\n"
      ]
    },
    {
      "cell_type": "code",
      "metadata": {
        "id": "73PCVrZFUXTD",
        "colab": {
          "base_uri": "https://localhost:8080/"
        },
        "outputId": "e6ba7459-8aa8-4a8d-f29c-1e460689a2c5"
      },
      "source": [
        "import numpy as np\r\n",
        "types = ['int', 'float','bool', 'str']\r\n",
        "types"
      ],
      "execution_count": 4,
      "outputs": [
        {
          "output_type": "execute_result",
          "data": {
            "text/plain": [
              "['int', 'float', 'bool', 'str']"
            ]
          },
          "metadata": {
            "tags": []
          },
          "execution_count": 4
        }
      ]
    },
    {
      "cell_type": "markdown",
      "metadata": {
        "id": "r7yDtDnwARh_"
      },
      "source": [
        "Call the first element in types and slice the last 2 elements in the cell below. Print both results."
      ]
    },
    {
      "cell_type": "code",
      "metadata": {
        "id": "otQW7AvHAbNN",
        "colab": {
          "base_uri": "https://localhost:8080/"
        },
        "outputId": "ec4b4d1d-5d8b-4585-ce12-87691d41eb92"
      },
      "source": [
        "print(types[0])\r\n"
      ],
      "execution_count": 23,
      "outputs": [
        {
          "output_type": "stream",
          "text": [
            "int\n"
          ],
          "name": "stdout"
        }
      ]
    },
    {
      "cell_type": "code",
      "metadata": {
        "colab": {
          "base_uri": "https://localhost:8080/"
        },
        "id": "N5T0gClBGZEP",
        "outputId": "d62ee95c-6cd6-4907-f00f-4299ec4acd6f"
      },
      "source": [
        "print(types[-2:])"
      ],
      "execution_count": 24,
      "outputs": [
        {
          "output_type": "stream",
          "text": [
            "['bool', 'str']\n"
          ],
          "name": "stdout"
        }
      ]
    },
    {
      "cell_type": "markdown",
      "metadata": {
        "id": "966SjVwbDEq0"
      },
      "source": [
        "Divide by 4, the second element in \"types\" in the code cell below. In the text cell below that, explain why or why not the code was able to execute. (Your explanation does not have to be thorough)"
      ]
    },
    {
      "cell_type": "code",
      "metadata": {
        "id": "rVDgBSgQ9QZz",
        "colab": {
          "base_uri": "https://localhost:8080/",
          "height": 162
        },
        "outputId": "e63f6a82-fd90-463d-e1e4-4dd9e954e799"
      },
      "source": [
        "types[1]/4"
      ],
      "execution_count": 25,
      "outputs": [
        {
          "output_type": "error",
          "ename": "TypeError",
          "evalue": "ignored",
          "traceback": [
            "\u001b[0;31m---------------------------------------------------------------------------\u001b[0m",
            "\u001b[0;31mTypeError\u001b[0m                                 Traceback (most recent call last)",
            "\u001b[0;32m<ipython-input-25-617423363b94>\u001b[0m in \u001b[0;36m<module>\u001b[0;34m()\u001b[0m\n\u001b[0;32m----> 1\u001b[0;31m \u001b[0mtypes\u001b[0m\u001b[0;34m[\u001b[0m\u001b[0;36m1\u001b[0m\u001b[0;34m]\u001b[0m\u001b[0;34m/\u001b[0m\u001b[0;36m4\u001b[0m\u001b[0;34m\u001b[0m\u001b[0;34m\u001b[0m\u001b[0m\n\u001b[0m",
            "\u001b[0;31mTypeError\u001b[0m: unsupported operand type(s) for /: 'str' and 'int'"
          ]
        }
      ]
    },
    {
      "cell_type": "markdown",
      "metadata": {
        "id": "qKeHsqaxDTQR"
      },
      "source": [
        "Explain here: You cannot divide a list or a string. You can only divide an element if it's an integer not integrated to a list."
      ]
    },
    {
      "cell_type": "markdown",
      "metadata": {
        "id": "TJ1OKy5fDVd1"
      },
      "source": [
        "#Creating Data Containers\r\n",
        "\r\n",
        "In the cells below, create a list, set, tuple and array. \r\n",
        "\r\n",
        "The list (in order) should have any 2 numbers as integers, any 2 numbers as floating point numbers and 2 of your favourite music artists as strings. [6 elements total]. Name this list **'First'** and print it. \r\n",
        "\r\n",
        "The Set (in order) should have 1 even number less than 20 followed by 3 of the first letters of the alphabet as strings in seperate entries. [4 elements total]. Name this set **'Second'** and print it.\r\n",
        "\r\n",
        "The Tuple (in order) should have 6 negative numbers. [6 elements total]. Name this Tuple **'Third'** and print it.\r\n",
        "\r\n",
        "The array (in order) should have the same 6 elements as the tuple but these numbers should be positive. [6 elements total]. Name this array **'Fourth'** and print it."
      ]
    },
    {
      "cell_type": "code",
      "metadata": {
        "id": "PXRY2QW_HviP",
        "colab": {
          "base_uri": "https://localhost:8080/"
        },
        "outputId": "83899a71-ab10-4215-842b-f132931b0d37"
      },
      "source": [
        "First = [1,2,2.3,3.2,\"Nina Simone\", \"Al Green\"]\r\n",
        "list = First\r\n",
        "print(First)"
      ],
      "execution_count": 126,
      "outputs": [
        {
          "output_type": "stream",
          "text": [
            "[1, 2, 2.3, 3.2, 'Nina Simone', 'Al Green']\n"
          ],
          "name": "stdout"
        }
      ]
    },
    {
      "cell_type": "code",
      "metadata": {
        "id": "widNk7UnHv2a",
        "colab": {
          "base_uri": "https://localhost:8080/"
        },
        "outputId": "2fe816fe-1db2-4aed-a74a-6c12b6514bd7"
      },
      "source": [
        "X = {1,\"a\",\"b\",\"c\"}\r\n",
        "Second= X\r\n",
        "print(Second)\r\n",
        "\r\n"
      ],
      "execution_count": 185,
      "outputs": [
        {
          "output_type": "stream",
          "text": [
            "{1, 'a', 'b', 'c'}\n"
          ],
          "name": "stdout"
        }
      ]
    },
    {
      "cell_type": "code",
      "metadata": {
        "id": "rhW-sun-HwFI",
        "colab": {
          "base_uri": "https://localhost:8080/"
        },
        "outputId": "760cd57b-ee6a-4a7b-ca57-ef03b60226fd"
      },
      "source": [
        "Tuple = ['-6','-5','-4','-3','-2','-1']\r\n",
        "Third = Tuple\r\n",
        "print(Third)\r\n"
      ],
      "execution_count": 124,
      "outputs": [
        {
          "output_type": "stream",
          "text": [
            "['-6', '-5', '-4', '-3', '-2', '-1']\n"
          ],
          "name": "stdout"
        }
      ]
    },
    {
      "cell_type": "code",
      "metadata": {
        "id": "1yKK4z0rHwSA",
        "colab": {
          "base_uri": "https://localhost:8080/"
        },
        "outputId": "19a4521d-945a-495a-d49c-5e09e15f586a"
      },
      "source": [
        "import numpy as np\r\n",
        "Array = [6,5,4,3,2,1]\r\n",
        "Fourth =np.array(Array)\r\n",
        "\r\n",
        "print(Fourth)\r\n"
      ],
      "execution_count": 130,
      "outputs": [
        {
          "output_type": "stream",
          "text": [
            "[6 5 4 3 2 1]\n"
          ],
          "name": "stdout"
        }
      ]
    },
    {
      "cell_type": "markdown",
      "metadata": {
        "id": "PmeI6k0DLIPD"
      },
      "source": [
        "Add together, the second element of 'First', and the last elements of 'Third' and Fourth."
      ]
    },
    {
      "cell_type": "code",
      "metadata": {
        "id": "I_BxRcx3LoC5",
        "colab": {
          "base_uri": "https://localhost:8080/"
        },
        "outputId": "9621a3b8-0993-4e5c-9d84-70cb5c41d6c2"
      },
      "source": [
        "print(First[1], Third[-1],Fourth[-1])"
      ],
      "execution_count": 127,
      "outputs": [
        {
          "output_type": "stream",
          "text": [
            "2 -1 1\n"
          ],
          "name": "stdout"
        }
      ]
    },
    {
      "cell_type": "markdown",
      "metadata": {
        "id": "Iw6KZ_oxLvJK"
      },
      "source": [
        "Slice the last 3 elements of 'Fourth' and append them to the list 'First'. Print the result."
      ]
    },
    {
      "cell_type": "code",
      "metadata": {
        "id": "a7itEilRLuEb",
        "colab": {
          "base_uri": "https://localhost:8080/"
        },
        "outputId": "c355ca8e-2d09-4219-cd30-1f6aa06bce16"
      },
      "source": [
        "Fourth1 = Fourth[-3:]\r\n",
        "Fourth1"
      ],
      "execution_count": 131,
      "outputs": [
        {
          "output_type": "execute_result",
          "data": {
            "text/plain": [
              "array([3, 2, 1])"
            ]
          },
          "metadata": {
            "tags": []
          },
          "execution_count": 131
        }
      ]
    },
    {
      "cell_type": "code",
      "metadata": {
        "id": "icMMPn2GW_XY"
      },
      "source": [
        "First.append(Fourth1)"
      ],
      "execution_count": 133,
      "outputs": []
    },
    {
      "cell_type": "code",
      "metadata": {
        "id": "MVMeQ1lzckbV",
        "outputId": "ed7016b3-3aab-46e1-aaa2-3762cd464a6b",
        "colab": {
          "base_uri": "https://localhost:8080/"
        }
      },
      "source": [
        "First"
      ],
      "execution_count": 134,
      "outputs": [
        {
          "output_type": "execute_result",
          "data": {
            "text/plain": [
              "[1, 2, 2.3, 3.2, 'Nina Simone', 'Al Green', array([3, 2, 1])]"
            ]
          },
          "metadata": {
            "tags": []
          },
          "execution_count": 134
        }
      ]
    },
    {
      "cell_type": "markdown",
      "metadata": {
        "id": "vDYDsGdQL-gY"
      },
      "source": [
        "Create a 3x3 numpy matrix with 5's on the diagonal and 1's everywhere else and name it 'Matrix'. The matrix should look like this:\r\n",
        "\r\n",
        "$$\\begin{bmatrix} 5 & 1 & 1 \\\\ 1 & 5 & 1 \\\\ 1 & 1 & 5 \\end{bmatrix}$$"
      ]
    },
    {
      "cell_type": "code",
      "metadata": {
        "id": "bAJQW9YVMz2-",
        "colab": {
          "base_uri": "https://localhost:8080/"
        },
        "outputId": "14655245-16e2-41ee-f48f-7fd5e52dda30"
      },
      "source": [
        "\r\n",
        "matrix = [[5,1,1],[1,5,1],[1,1,5]]\r\n",
        "print(matrix)\r\n",
        "Matrix = np.array(matrix)\r\n",
        "print(Matrix)"
      ],
      "execution_count": 135,
      "outputs": [
        {
          "output_type": "stream",
          "text": [
            "[[5, 1, 1], [1, 5, 1], [1, 1, 5]]\n",
            "[[5 1 1]\n",
            " [1 5 1]\n",
            " [1 1 5]]\n"
          ],
          "name": "stdout"
        }
      ]
    },
    {
      "cell_type": "markdown",
      "metadata": {
        "id": "K10gqABfM4ES"
      },
      "source": [
        "Call the last element in each row of the matrix."
      ]
    },
    {
      "cell_type": "code",
      "metadata": {
        "id": "2VpgbZtaNNVw",
        "colab": {
          "base_uri": "https://localhost:8080/"
        },
        "outputId": "2b9aa1c9-8d04-40e5-e731-83835f426493"
      },
      "source": [
        "Matrix[0][2]\r\n"
      ],
      "execution_count": 136,
      "outputs": [
        {
          "output_type": "execute_result",
          "data": {
            "text/plain": [
              "1"
            ]
          },
          "metadata": {
            "tags": []
          },
          "execution_count": 136
        }
      ]
    },
    {
      "cell_type": "code",
      "metadata": {
        "colab": {
          "base_uri": "https://localhost:8080/"
        },
        "id": "M6K4vBAMaZLa",
        "outputId": "87e53df3-8848-4e07-89ae-7245491a31b3"
      },
      "source": [
        "Matrix[1][2]"
      ],
      "execution_count": 137,
      "outputs": [
        {
          "output_type": "execute_result",
          "data": {
            "text/plain": [
              "1"
            ]
          },
          "metadata": {
            "tags": []
          },
          "execution_count": 137
        }
      ]
    },
    {
      "cell_type": "code",
      "metadata": {
        "colab": {
          "base_uri": "https://localhost:8080/"
        },
        "id": "jnq7skTNaZnc",
        "outputId": "3c9296d1-f312-48a6-85dc-63dbefd83317"
      },
      "source": [
        "Matrix[2][2]"
      ],
      "execution_count": 138,
      "outputs": [
        {
          "output_type": "execute_result",
          "data": {
            "text/plain": [
              "5"
            ]
          },
          "metadata": {
            "tags": []
          },
          "execution_count": 138
        }
      ]
    },
    {
      "cell_type": "markdown",
      "metadata": {
        "id": "RX55PeiwNNz7"
      },
      "source": [
        "Create a dictionary with the following keys, 'Name', 'Year', 'Music' and 'Food'. The values associated with each key (in order) should be your name, the current year, you favourite genre of music and one of your favourite foods. Name the dictionary 'Me' and print it. "
      ]
    },
    {
      "cell_type": "code",
      "metadata": {
        "id": "TLD8x4OaPhNI",
        "colab": {
          "base_uri": "https://localhost:8080/"
        },
        "outputId": "3566160f-c601-446e-fbdb-5bf64ef382b6"
      },
      "source": [
        "Me = {'Name': 'Arnaud',\r\n",
        "'Year':'2021',\r\n",
        "'Music': 'Soul',\r\n",
        "'Food':'Beef', }\r\n",
        "print(Me)"
      ],
      "execution_count": 160,
      "outputs": [
        {
          "output_type": "stream",
          "text": [
            "{'Name': 'Arnaud', 'Year': '2021', 'Music': 'Soul', 'Food': 'Beef'}\n"
          ],
          "name": "stdout"
        }
      ]
    },
    {
      "cell_type": "markdown",
      "metadata": {
        "id": "So_1ge7KPhkP"
      },
      "source": [
        "Replace the value associated with 'Food' to another one of your favourite foods. Print the updated dictionary."
      ]
    },
    {
      "cell_type": "code",
      "metadata": {
        "id": "XhFXTLBOSHcw",
        "colab": {
          "base_uri": "https://localhost:8080/"
        },
        "outputId": "d95efb7b-e62c-48bd-e565-33174d4d5850"
      },
      "source": [
        "Me['Food'] = 'lamb'\r\n",
        "print(Me)"
      ],
      "execution_count": 161,
      "outputs": [
        {
          "output_type": "stream",
          "text": [
            "{'Name': 'Arnaud', 'Year': '2021', 'Music': 'Soul', 'Food': 'lamb'}\n"
          ],
          "name": "stdout"
        }
      ]
    },
    {
      "cell_type": "markdown",
      "metadata": {
        "id": "PHorHCyjC3F9"
      },
      "source": [
        "Create a list with entries 1, 3, 2, 1, 5, 3, 5, 1, 4 and name it 'original'. Create a new list called 'unique' that only contains unique numbers from original.\r\n",
        "\r\n",
        "Example:\r\n",
        "\r\n",
        "```\r\n",
        "Input\r\n",
        "[1, 2, 3, 1]\r\n",
        "\r\n",
        "Output\r\n",
        "[1, 2, 3]\r\n",
        "```\r\n",
        "**Hint:** Think about the properties of a set from lecture.\r\n"
      ]
    },
    {
      "cell_type": "code",
      "metadata": {
        "id": "cPWYXHe1C1hX"
      },
      "source": [
        "original=[1, 3, 2, 1, 5, 3, 5, 1, 4]\r\n",
        "\r\n"
      ],
      "execution_count": 190,
      "outputs": []
    },
    {
      "cell_type": "markdown",
      "metadata": {
        "id": "_cVTBnphH84j"
      },
      "source": [
        "#Arithmetic Operations\r\n",
        "\r\n",
        "Call the last element of the array \"Fourth\" that you created above. Raise this element to the second power and add it to the second element of the list \"First\"."
      ]
    },
    {
      "cell_type": "code",
      "metadata": {
        "id": "Ik8NnTQ9VSeD",
        "colab": {
          "base_uri": "https://localhost:8080/"
        },
        "outputId": "deb5e778-678d-4edf-f9e6-7bc00dcdfbfd"
      },
      "source": [
        "(Fourth[-1]**2) + (First[1])"
      ],
      "execution_count": 170,
      "outputs": [
        {
          "output_type": "execute_result",
          "data": {
            "text/plain": [
              "3"
            ]
          },
          "metadata": {
            "tags": []
          },
          "execution_count": 170
        }
      ]
    },
    {
      "cell_type": "markdown",
      "metadata": {
        "id": "4HOSQvJDVTEE"
      },
      "source": [
        "Add the last three elements of \"Third\". "
      ]
    },
    {
      "cell_type": "code",
      "metadata": {
        "id": "nUZNOX_cVl69",
        "colab": {
          "base_uri": "https://localhost:8080/",
          "height": 35
        },
        "outputId": "6f36b283-ae99-41dc-ebd4-04b7cd4f1d81"
      },
      "source": [
        "(Third[-3] + Third[-2] + Third[-1])"
      ],
      "execution_count": 176,
      "outputs": [
        {
          "output_type": "execute_result",
          "data": {
            "application/vnd.google.colaboratory.intrinsic+json": {
              "type": "string"
            },
            "text/plain": [
              "'-3-2-1'"
            ]
          },
          "metadata": {
            "tags": []
          },
          "execution_count": 176
        }
      ]
    },
    {
      "cell_type": "markdown",
      "metadata": {
        "id": "lXS3i_GRVmk5"
      },
      "source": [
        "Convert the tuple, \"Third\" to an array, double all the elements in \"Third\" and add the elements in this array to the elements in \"Fourth\" using only 1 arithmatic statement. Store this result as \"Fifth\" and print.\r\n",
        "\r\n",
        "**Hint** Answer should look like this. \r\n",
        "\r\n",
        "\r\n",
        "```\r\n",
        "Fifth = 2*___(____) + _____\r\n",
        "print (Fifth)\r\n",
        "```\r\n",
        "\r\n"
      ]
    },
    {
      "cell_type": "code",
      "metadata": {
        "id": "5T35jbY3YL04"
      },
      "source": [
        ""
      ],
      "execution_count": null,
      "outputs": []
    },
    {
      "cell_type": "markdown",
      "metadata": {
        "id": "afaH5uSsJFeD"
      },
      "source": [
        "#Conditionals\r\n",
        "\r\n",
        "Convert \"Fifth\" to a tuple and use a print statement to see if Fifth is equal to \"Third\""
      ]
    },
    {
      "cell_type": "code",
      "metadata": {
        "id": "x_9YDynWaAUz"
      },
      "source": [
        ""
      ],
      "execution_count": null,
      "outputs": []
    },
    {
      "cell_type": "code",
      "metadata": {
        "id": "Y2i8lW0Tft0Y"
      },
      "source": [
        ""
      ],
      "execution_count": null,
      "outputs": []
    }
  ]
}